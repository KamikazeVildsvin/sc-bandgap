{
 "cells": [
  {
   "cell_type": "markdown",
   "id": "52b06322",
   "metadata": {},
   "source": [
    "## Switch Capacitor Bandgap Reference\n",
    "This notebook serves as the platform for calculating different parameters"
   ]
  },
  {
   "cell_type": "code",
   "execution_count": 1,
   "id": "56a04443",
   "metadata": {},
   "outputs": [],
   "source": [
    "import numpy as np"
   ]
  },
  {
   "cell_type": "code",
   "execution_count": 5,
   "id": "93ef0d00",
   "metadata": {},
   "outputs": [],
   "source": [
    "# Constants\n",
    "k = 1.38e-23 # Boltzman's constant\n",
    "q = 1.602e-19 # charge of an electron\n",
    "VG0 = 1.206 # bandgap voltage of silicon @ 0 K\n",
    "T0 = 300 # reference temperature @ 300 K \n",
    "current_scale = 10 # ratio between current source 2 and 1\n",
    "cap_scale = 9\n",
    "C1 = 100e-15\n",
    "C2 = 2*C1\n",
    "C3 = C1\n",
    "\n",
    "# functions\n",
    "def VT(T, k=1.38e-23, q=1.602e-19):\n",
    "    return T*k/q\n",
    "\n",
    "def K(curscale):\n",
    "    return 2e-3 / (0.086e-3 * np.log(curscale))\n",
    "\n",
    "def K_book(VBE02,curscale):\n",
    "    '''Note that this is only valid at 300K'''\n",
    "    return (1.24 - VBE02) / (VT(300)*np.log(curscale))\n",
    "\n",
    "def Reqv(fc,C):\n",
    "    return 1 / (fc * C)\n",
    "\n",
    "def Vref(C1,C2,C3,VBE2,capscale,curscale,T):\n",
    "    '''Vref from SCBG around 300K'''\n",
    "    return C1 / (C2 - C3) * (VBE2 + capscale*VT(T)*np.log(curscale))"
   ]
  },
  {
   "cell_type": "code",
   "execution_count": 6,
   "id": "6dc33b02",
   "metadata": {},
   "outputs": [
    {
     "data": {
      "text/plain": [
       "'Temperature coefficient of Vt: 8.61e-05'"
      ]
     },
     "metadata": {},
     "output_type": "display_data"
    },
    {
     "data": {
      "text/plain": [
       "'Gain factor for typical conditions: 9.01'"
      ]
     },
     "metadata": {},
     "output_type": "display_data"
    },
    {
     "data": {
      "text/plain": [
       "'Vref value around 300K: 1.23914507219075'"
      ]
     },
     "metadata": {},
     "output_type": "display_data"
    }
   ],
   "source": [
    "# calculte k/q\n",
    "display(\"Temperature coefficient of Vt: \" + f'{k/q:.3}')\n",
    "\n",
    "# calculate gain factor K\n",
    "VBE2_meas = 0.7036\n",
    "display(f'Gain factor for typical conditions: {K_book(VBE2_meas,current_scale):.3}')\n",
    "\n",
    "# calculate the Vref value\n",
    "display(f'Vref value around 300K: {Vref(C1,C2,C3,VBE2_meas,cap_scale,current_scale,T0)}')\n",
    "\n"
   ]
  },
  {
   "cell_type": "markdown",
   "id": "89b2fe91",
   "metadata": {},
   "source": [
    "From the Vref equation, we can see that in order for $\\frac{C_1}{C_2 - C_3} = 1$, we need to have $C_3 = 2C_2$ and $C_1 = C_3$."
   ]
  },
  {
   "cell_type": "code",
   "execution_count": 4,
   "id": "5a954360",
   "metadata": {},
   "outputs": [
    {
     "data": {
      "text/plain": [
       "3999999999.9999995"
      ]
     },
     "metadata": {},
     "output_type": "display_data"
    }
   ],
   "source": [
    "# Calculate equivalent resistance\n",
    "display(Reqv(250e3,1e-15))"
   ]
  }
 ],
 "metadata": {
  "kernelspec": {
   "display_name": "Python 3 (ipykernel)",
   "language": "python",
   "name": "python3"
  },
  "language_info": {
   "codemirror_mode": {
    "name": "ipython",
    "version": 3
   },
   "file_extension": ".py",
   "mimetype": "text/x-python",
   "name": "python",
   "nbconvert_exporter": "python",
   "pygments_lexer": "ipython3",
   "version": "3.10.2"
  }
 },
 "nbformat": 4,
 "nbformat_minor": 5
}
